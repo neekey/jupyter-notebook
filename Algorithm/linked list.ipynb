{
 "cells": [
  {
   "cell_type": "markdown",
   "metadata": {},
   "source": [
    "## Linked List"
   ]
  },
  {
   "cell_type": "code",
   "execution_count": 4,
   "metadata": {},
   "outputs": [],
   "source": [
    "# Basic linked list node\n",
    "class Node:\n",
    "    value = None\n",
    "    next_node = None\n",
    "\n",
    "    def __init__(self, value, previous_node=None):\n",
    "        self.value = value\n",
    "        if previous_node:\n",
    "            previous_node.next_node = self\n",
    "\n",
    "def create_linked_list_from_list(arr):\n",
    "    root = None\n",
    "    prev_node = None\n",
    "    for item in arr:\n",
    "        node = Node(item, prev_node)\n",
    "        if root is None:\n",
    "            root = node\n",
    "        prev_node = node\n",
    "    return root"
   ]
  },
  {
   "cell_type": "code",
   "execution_count": 7,
   "metadata": {},
   "outputs": [],
   "source": [
    "def convert_linked_list_to_list(linked_list):\n",
    "    result = []\n",
    "    next_node = linked_list\n",
    "    while next_node is not None:\n",
    "        result.append(next_node.value)\n",
    "        next_node = next_node.next_node\n",
    "    return result\n",
    "\n",
    "def assert_convert_linked_list_to_list(fn):\n",
    "    test_list = [1,2,3,4,5,6,7]\n",
    "    linked_list = create_linked_list_from_list(test_list)\n",
    "    assert fn(linked_list) == test_list\n",
    "    \n",
    "assert_convert_linked_list_to_list(convert_linked_list_to_list)"
   ]
  },
  {
   "cell_type": "code",
   "execution_count": 13,
   "metadata": {},
   "outputs": [],
   "source": [
    "def remove_item_from_linked_list(linked_list, item):\n",
    "    prev_node = None\n",
    "    next_node = linked_list\n",
    "    while next_node is not None:\n",
    "        if next_node.value == item:\n",
    "            if prev_node is not None:\n",
    "                prev_node.next_node = next_node.next_node\n",
    "                return linked_list\n",
    "            else:\n",
    "                return next_node.next_node\n",
    "        prev_node = next_node\n",
    "        next_node = next_node.next_node\n",
    "    return linked_list\n",
    "\n",
    "def assert_remove_item_from_linked_list(fn):\n",
    "    assert convert_linked_list_to_list(fn(\n",
    "        create_linked_list_from_list([1,2,3,4,5,6,7]),\n",
    "        4\n",
    "    )) == [1,2,3,5,6,7], \"should be able to remove item from middle\"\n",
    "    assert convert_linked_list_to_list(fn(\n",
    "        create_linked_list_from_list([1,2,3,4,5,6,7]),\n",
    "        1\n",
    "    )) == [2,3,4,5,6,7], \"should be able to remove item from the beginning\"\n",
    "    assert convert_linked_list_to_list(fn(\n",
    "        create_linked_list_from_list([1,2,3,4,5,6,7]),\n",
    "        7\n",
    "    )) == [1,2,3,4,5,6], \"should be able to remove item from the end\"\n",
    "    assert convert_linked_list_to_list(fn(\n",
    "        create_linked_list_from_list([1,2,3,4,5,6,7]),\n",
    "        8\n",
    "    )) == [1,2,3,4,5,6,7], \"should be able to handle item not found\"\n",
    "    \n",
    "assert_remove_item_from_linked_list(remove_item_from_linked_list)"
   ]
  },
  {
   "cell_type": "code",
   "execution_count": 14,
   "metadata": {},
   "outputs": [],
   "source": [
    "def add_item_to_linked_list_tail(linked_list, item):\n",
    "    next_node = linked_list\n",
    "    while next_node is not None:\n",
    "        if next_node.next_node is None:\n",
    "            new_node = Node(item, next_node)\n",
    "            return linked_list\n",
    "        next_node = next_node.next_node\n",
    "        \n",
    "def assert_add_item_to_linked_list_tail(fn):\n",
    "    assert convert_linked_list_to_list(fn(\n",
    "        create_linked_list_from_list([1,2,3,4,5,6,7]),\n",
    "        8\n",
    "    )) == [1,2,3,4,5,6,7,8], \"should be able to add item to the tail\"\n",
    "    \n",
    "assert_add_item_to_linked_list_tail(add_item_to_linked_list_tail)"
   ]
  },
  {
   "cell_type": "code",
   "execution_count": 16,
   "metadata": {},
   "outputs": [
    {
     "name": "stdout",
     "output_type": "stream",
     "text": [
      "7\n",
      "6\n",
      "5\n",
      "4\n",
      "3\n",
      "2\n",
      "1\n",
      "7\n",
      "6\n",
      "5\n",
      "4\n",
      "3\n",
      "2\n",
      "1\n"
     ]
    }
   ],
   "source": [
    "def reversely_print_liked_list_recursively(linked_list):\n",
    "    if linked_list is not None:\n",
    "        reversely_print_liked_list_recursively(linked_list.next_node)\n",
    "        print(linked_list.value)\n",
    "        \n",
    "def reversely_print_liked_list_stack(linked_list):\n",
    "    nodes = []\n",
    "    next_node = linked_list\n",
    "    while next_node is not None:\n",
    "        nodes.append(next_node)\n",
    "        next_node = next_node.next_node\n",
    "    i = len(nodes) - 1\n",
    "    while i >= 0:\n",
    "        print(nodes[i].value)\n",
    "        i -= 1\n",
    "        \n",
    "reversely_print_liked_list_recursively(create_linked_list_from_list([1,2,3,4,5,6,7]))\n",
    "reversely_print_liked_list_stack(create_linked_list_from_list([1,2,3,4,5,6,7]))"
   ]
  },
  {
   "cell_type": "code",
   "execution_count": null,
   "metadata": {},
   "outputs": [],
   "source": []
  }
 ],
 "metadata": {
  "kernelspec": {
   "display_name": "Python 3",
   "language": "python",
   "name": "python3"
  },
  "language_info": {
   "codemirror_mode": {
    "name": "ipython",
    "version": 3
   },
   "file_extension": ".py",
   "mimetype": "text/x-python",
   "name": "python",
   "nbconvert_exporter": "python",
   "pygments_lexer": "ipython3",
   "version": "3.7.3"
  }
 },
 "nbformat": 4,
 "nbformat_minor": 2
}
