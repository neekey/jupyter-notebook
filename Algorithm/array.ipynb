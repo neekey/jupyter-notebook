{
 "cells": [
  {
   "cell_type": "markdown",
   "metadata": {},
   "source": [
    "# Array\n",
    "\n",
    "- use Array as Hashmap\n",
    "- In place change or not"
   ]
  },
  {
   "cell_type": "markdown",
   "metadata": {},
   "source": [
    "## #1 Find Duplicated number in an array\n",
    "\n",
    "An array with n items with each item can be a number between 0~n-1.\n",
    "\n",
    "Some of the numbers in the array are the same, find any of the duplicated numbers."
   ]
  },
  {
   "cell_type": "code",
   "execution_count": 42,
   "metadata": {},
   "outputs": [],
   "source": [
    "def assert_duplicated_number_fn(fn):\n",
    "    assert fn(None) == None, \"should return None if array is None\"\n",
    "    assert fn([]) == None, \"should return None if array is empty\"\n",
    "    assert fn([1]) == None, \"should return None if array only has one item\"\n",
    "    assert fn({}) == None, \"should return None if non-array is given\"\n",
    "    assert fn([0,1,2,3,4,5,6,7]) == None, \"should return None if no duplicated number found\"\n",
    "    assert fn([1,2,0,7,4,2,4,1]) in [2, 4, 1], \"should any of the duplicated numbers\"\n",
    "\n",
    "# complexity:\n",
    "# time: O(n)\n",
    "# space: O(n)\n",
    "def get_duplicated_number(arr):\n",
    "    number_map = dict()\n",
    "    if not isinstance(arr, list) or len(arr) == 0 or len(arr) == 1:\n",
    "        return None\n",
    "    for number in arr:\n",
    "        if number in number_map:\n",
    "            return number\n",
    "        number_map[number] = True\n",
    "    return None\n",
    "\n",
    "assert_duplicated_number_fn(get_duplicated_number)"
   ]
  },
  {
   "cell_type": "code",
   "execution_count": 43,
   "metadata": {},
   "outputs": [],
   "source": [
    "# this algorithm is applicable only based on the length of the array is n\n",
    "# and all the values of the items are within the range of 0~n-1\n",
    "# complexity\n",
    "# time: O(n)\n",
    "# space: O(1)\n",
    "def get_duplicated_number_in_place(arr):\n",
    "    if not isinstance(arr, list) or len(arr) == 0 or len(arr) == 1:\n",
    "        return None\n",
    "    arr_len = len(arr)\n",
    "    for number in arr:\n",
    "        if number < 0 or number >= arr_len:\n",
    "            raise Exception(f\"All the number in the array needs to be within the range of 0~{arr_len - 1}\")\n",
    "    i = 0\n",
    "    # iterate all the numbers\n",
    "    # for each arr[i] let's check if arr[i] equals to i\n",
    "    # if so, continue, otherwise:\n",
    "    #    - as arr[i] is not in ints own place, let's check who is on its correct position, \n",
    "    #    - if it's the same value, then we know they are duplicated\n",
    "    #    - otherwise we swap arr[i] with arr[arr[i]] and keep on checking\n",
    "    while i < arr_len:\n",
    "        val = arr[i]\n",
    "        if val == i:\n",
    "            i += 1\n",
    "        elif val == arr[val]:\n",
    "            return val\n",
    "        else:\n",
    "            arr[i] = arr[val]\n",
    "            arr[val] = val\n",
    "    return None\n",
    "\n",
    "assert_duplicated_number_fn(get_duplicated_number_in_place)"
   ]
  },
  {
   "cell_type": "markdown",
   "metadata": {},
   "source": [
    "## #2 Find Duplicated number in an array without changing the array\n",
    "\n",
    "An array with n items with each item can be a number between 1~(n - 1).\n",
    "\n",
    "Some of the numbers in the array are the same, find any of the duplicated numbers.\n"
   ]
  },
  {
   "cell_type": "code",
   "execution_count": 45,
   "metadata": {},
   "outputs": [],
   "source": [
    "# This solution is heavily based on the fact that the array length is `n` but the value range is `1~n-1`,\n",
    "# which means, if we split the value range from 1 ~ m and m+1 ~ n-1, and count the occurrence of the values in each range,\n",
    "# one of the range must have more occurrences of the values in the array than the range itself\n",
    "# based on this fact, we can use the binary search\n",
    "# Time complexity: O(nlog(n))\n",
    "# Space complexity: O(1)\n",
    "def get_duplicated_number_without_change(arr):\n",
    "    if not isinstance(arr, list) or len(arr) == 0 or len(arr) == 1:\n",
    "        return None\n",
    "    arr_len = len(arr)\n",
    "    for number in arr:\n",
    "        if number < 1 or number > arr_len - 1:\n",
    "            raise Exception(f\"All the number in the array needs to be within the range of 1~{arr_len - 1}\")\n",
    "    \n",
    "    start = 1\n",
    "    end = arr_len - 1\n",
    "    while end >= start:\n",
    "        # bit right shift is faster than division\n",
    "        middle = (start + end) >> 1\n",
    "        count = count_range(arr, start, middle)\n",
    "        \n",
    "        # this is the termination part.\n",
    "        if start == end and count > 1:\n",
    "            return start\n",
    "        if count > (middle - start + 1):\n",
    "            end = middle\n",
    "        else:\n",
    "            start = middle + 1\n",
    "    \n",
    "    return None\n",
    "        \n",
    "def count_range(arr, start, end):\n",
    "    count = 0\n",
    "    for item in arr:\n",
    "        if item >= start and item <= end:\n",
    "            count += 1\n",
    "    return count\n",
    "\n",
    "def assert_duplicated_number_fn2(fn):\n",
    "    assert fn(None) == None, \"should return None if array is None\"\n",
    "    assert fn([]) == None, \"should return None if array is empty\"\n",
    "    assert fn([1]) == None, \"should return None if array only has one item\"\n",
    "    assert fn({}) == None, \"should return None if non-array is given\"\n",
    "    assert fn([6,1,2,3,4,5,6,7]) == 6, \"should return any of the duplicated numbers\"\n",
    "    assert fn([1,2,6,7,4,2,4,1]) in [2, 4, 1], \"should return any of the duplicated numbers\"\n",
    "    try:\n",
    "        fn([0, 1, 2, 3])\n",
    "    except Exception as e:\n",
    "        pass\n",
    "    else:\n",
    "        assert False, \"should raise exception if any of the number is smaller than 1\"\n",
    "        \n",
    "    try:\n",
    "        fn([1, 2, 3, 4])\n",
    "    except Exception as e:\n",
    "        pass\n",
    "    else:\n",
    "        assert False, \"should raise exception if any of the number is greater than (n - 1)\"\n",
    "    \n",
    "assert_duplicated_number_fn2(get_duplicated_number_without_change)"
   ]
  },
  {
   "cell_type": "markdown",
   "metadata": {},
   "source": [
    "\n",
    "# Two Demensional Array\n",
    "\n",
    "- Use two-demensional array as matrix\n",
    "- Sorted two demensional search"
   ]
  },
  {
   "cell_type": "markdown",
   "metadata": {},
   "source": [
    "## #3 Search in a two-demensional array\n",
    "\n",
    "Given a 2-demensional array, with all the rows are in ascending order from left to right. All columns are in ascending order from top to bottom. Create a function that receives a this kind 2-demensional array and a target value, return whether the value is in the array."
   ]
  },
  {
   "cell_type": "code",
   "execution_count": 54,
   "metadata": {},
   "outputs": [],
   "source": [
    "def assert_search_in_2_dems_array(fn):\n",
    "    arr = [\n",
    "        [1, 2, 8, 9],\n",
    "        [2, 4, 9, 12],\n",
    "        [4, 7, 10, 13],\n",
    "        [6, 8, 11, 15],\n",
    "    ]\n",
    "    assert fn(arr, 4, 4, 7) == True, 'should be able to find target'\n",
    "    assert fn(arr, 4, 4, 11) == True, 'should be able to find target'\n",
    "    assert fn(arr, 4, 4, 2) == True, 'should be able to find target'\n",
    "    assert fn(arr, 4, 4, 0) == False, 'should return False if not found'\n",
    "    assert fn(arr, 4, 4, 16) == False, 'should return False if not found'\n",
    "\n",
    "def search_in_a_sorted_2_dems_array(arr, rows, columns, target):\n",
    "    row = 0\n",
    "    col = columns - 1\n",
    "    while row < rows and col >= 0:\n",
    "        val = arr[row][col]\n",
    "        if target < val:\n",
    "            col -= 1\n",
    "        elif target > val:\n",
    "            row += 1\n",
    "        else:\n",
    "            return True\n",
    "    return False\n",
    "\n",
    "assert_search_in_2_dems_array(search_in_a_sorted_2_dems_array)"
   ]
  },
  {
   "cell_type": "markdown",
   "metadata": {},
   "source": [
    "## #5 Replace white space in an array\n",
    "\n",
    "An array `['W', 'e', ' ', 'a', 'r', 'e', ' ', 'h', 'a', 'p', 'p', 'y']`, replace all the white space with `%`, `2` and `0`"
   ]
  },
  {
   "cell_type": "code",
   "execution_count": 58,
   "metadata": {},
   "outputs": [],
   "source": [
    "def assert_replace_white_space_in_array(fn):\n",
    "    arr = ['W', 'e', ' ', 'a', 'r', 'e', ' ', 'h', 'a', 'p', 'p', 'y']\n",
    "    expected = ['W', 'e', '%', '2', '0', 'a', 'r', 'e', '%', '2', '0', 'h', 'a', 'p', 'p', 'y']\n",
    "    assert fn(arr) == expected, 'Should replace all white space with %20'\n",
    "\n",
    "# Time complexity: O(n)\n",
    "def replace_white_space_in_array(arr):\n",
    "    space_count = 0\n",
    "    arr_len = len(arr)\n",
    "    for char in arr:\n",
    "        if char == ' ':\n",
    "            arr.extend([None] * 2)\n",
    "    i = arr_len - 1\n",
    "    j = len(arr) - 1\n",
    "    while i > 0 and j > 0:\n",
    "        if arr[i] == ' ':\n",
    "            arr[j] = '0'\n",
    "            arr[j - 1] = '2'\n",
    "            arr[j - 2] = '%'\n",
    "            j -= 3\n",
    "        else:\n",
    "            arr[j] = arr[i]\n",
    "            j -= 1\n",
    "        i -= 1\n",
    "    return arr\n",
    "    \n",
    "assert_replace_white_space_in_array(replace_white_space_in_array)"
   ]
  },
  {
   "cell_type": "markdown",
   "metadata": {},
   "source": [
    "## #5 Related: Merge two sorted array\n",
    "\n",
    "There are two arrays A1 and A2, they are both sorted in ascending order.Now merge A2 to A1, the merged array needs to be in ascending order as well."
   ]
  },
  {
   "cell_type": "code",
   "execution_count": 67,
   "metadata": {},
   "outputs": [
    {
     "name": "stdout",
     "output_type": "stream",
     "text": [
      "[2, 4, 5, 6, 7, 8, 9, 10, 11, 12, 13, 14]\n"
     ]
    }
   ],
   "source": [
    "def assert_merge_sorted_arrays(fn):\n",
    "    print(fn([5,7,9,11,12,13,14], [2,4,6,8,10]))\n",
    "    assert fn([5,7,9,11,12,13,14], [2,4,6,8,10]) == [2,4,5,6,7,8,9,10,11,12,13,14], 'should be able to merge'\n",
    "    assert fn([1,3,5,7,9], [2,4,6,8,10]) == [1,2,3,4,5,6,7,8,9,10], 'should be able to merge'\n",
    "    assert fn([2,4,6,8,10], [5,7,9,11,12,13,14]) == [2,4,5,6,7,8,9,10,11,12,13,14], 'should be able to merge'\n",
    "    assert fn([1,3,5,7,9], []) == [1,3,5,7,9], 'should be able to merge'\n",
    "\n",
    "def merge_sorted_arrays(a1, a2):\n",
    "    len_a1 = len(a1)\n",
    "    len_a2 = len(a2)\n",
    "    if len_a2 == 0:\n",
    "        return a1\n",
    "    a1.extend([None] * len_a2)\n",
    "    i1 = len_a1 - 1\n",
    "    i2 = len_a2 - 1\n",
    "    i = len(a1) - 1\n",
    "    while i1 >= 0 and i2 >= 0:\n",
    "        val_1 = a1[i1]\n",
    "        val_2 = a2[i2]\n",
    "        max = None\n",
    "        if val_1 > val_2:\n",
    "            max = a1[i1]\n",
    "            i1 -= 1\n",
    "        else:\n",
    "            max = a2[i2]\n",
    "            i2 -= 1\n",
    "        a1[i] = max\n",
    "        i -= 1\n",
    "    if i2 >= 0:\n",
    "        while i2 >= 0:\n",
    "            a1[i] = a2[i2]\n",
    "            i -= 1\n",
    "            i2 -= 1\n",
    "    return a1\n",
    "\n",
    "assert_merge_sorted_arrays(merge_sorted_arrays)"
   ]
  },
  {
   "cell_type": "code",
   "execution_count": null,
   "metadata": {},
   "outputs": [],
   "source": []
  }
 ],
 "metadata": {
  "kernelspec": {
   "display_name": "Python 3",
   "language": "python",
   "name": "python3"
  },
  "language_info": {
   "codemirror_mode": {
    "name": "ipython",
    "version": 3
   },
   "file_extension": ".py",
   "mimetype": "text/x-python",
   "name": "python",
   "nbconvert_exporter": "python",
   "pygments_lexer": "ipython3",
   "version": "3.7.3"
  }
 },
 "nbformat": 4,
 "nbformat_minor": 2
}
