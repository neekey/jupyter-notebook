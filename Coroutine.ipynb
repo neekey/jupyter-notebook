{
 "cells": [
  {
   "cell_type": "code",
   "execution_count": 6,
   "metadata": {
    "scrolled": false
   },
   "outputs": [
    {
     "name": "stdout",
     "output_type": "stream",
     "text": [
      "main starts\n",
      "start download http://www.python.org/ftp/python/3.7.3/python-3.7.3-macosx10.9.pkg\n",
      "start download https://www.python.org/ftp/python/2.7.12/python-2.7.12-macosx10.6.pkg\n",
      "download finish for https://www.python.org/ftp/python/2.7.12/python-2.7.12-macosx10.6.pkg\n",
      "download finish for http://www.python.org/ftp/python/3.7.3/python-3.7.3-macosx10.9.pkg\n",
      "main ends\n"
     ]
    }
   ],
   "source": [
    "import asyncio\n",
    "import functools\n",
    "from urllib import request\n",
    "\n",
    "def run_in_executor(f):\n",
    "    @functools.wraps(f)\n",
    "    def inner(*args, **kwargs):\n",
    "        loop = asyncio.get_running_loop()\n",
    "        return loop.run_in_executor(None, lambda: f(*args, **kwargs))\n",
    "\n",
    "    return inner\n",
    "\n",
    "\n",
    "@run_in_executor\n",
    "def non_block_download(url):\n",
    "    print(f'start download {url}')\n",
    "    with request.urlopen(url) as response:\n",
    "        response.read()\n",
    "        print(f'download finish for {url}')\n",
    "\n",
    "\n",
    "async def async_download(url):\n",
    "    await non_block_download(url)\n",
    "\n",
    "async def main():\n",
    "    print('main starts')\n",
    "    task1 = asyncio.create_task(\n",
    "        async_download('http://www.python.org/ftp/python/3.7.3/python-3.7.3-macosx10.9.pkg')\n",
    "    )\n",
    "    task2 = asyncio.create_task(\n",
    "        async_download('https://www.python.org/ftp/python/2.7.12/python-2.7.12-macosx10.6.pkg')\n",
    "    )\n",
    "    await task1\n",
    "    await task2\n",
    "    print('main ends')\n",
    "    \n",
    "\n",
    "await main()"
   ]
  },
  {
   "cell_type": "code",
   "execution_count": null,
   "metadata": {},
   "outputs": [],
   "source": []
  }
 ],
 "metadata": {
  "kernelspec": {
   "display_name": "Python 3",
   "language": "python",
   "name": "python3"
  },
  "language_info": {
   "codemirror_mode": {
    "name": "ipython",
    "version": 3
   },
   "file_extension": ".py",
   "mimetype": "text/x-python",
   "name": "python",
   "nbconvert_exporter": "python",
   "pygments_lexer": "ipython3",
   "version": "3.7.3"
  }
 },
 "nbformat": 4,
 "nbformat_minor": 2
}
